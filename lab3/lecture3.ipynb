{
 "cells": [
  {
   "cell_type": "code",
   "execution_count": 6,
   "metadata": {},
   "outputs": [],
   "source": [
    "import torch as tc\n",
    "import matplotlib.pyplot as plt\n",
    "import numpy as np\n",
    "import random"
   ]
  },
  {
   "cell_type": "code",
   "execution_count": 7,
   "metadata": {},
   "outputs": [],
   "source": [
    "def generate_circle(y_size, x_size, y_origin, x_origin, radius):\n",
    "    x_grid, y_grid = np.meshgrid(np.arange(x_size), np.arange(y_size))\n",
    "    return (x_grid-x_origin)**2 + (y_grid-y_origin)**2 < radius **2\n",
    "\n",
    "class CircleGenerator(tc.utils.data.Dataset):\n",
    "    def __init__(self, y_size, x_size, min_radius, max_radius, num_circles):\n",
    "        self.y_size, self.x_size = y_size, x_size\n",
    "        self.min_radius, self.max_radius = min_radius, max_radius\n",
    "        self.num_circles = num_circles\n",
    "    \n",
    "    def __len__(self):\n",
    "        return self.num_circles\n",
    "    \n",
    "    def __getitem__(self, ids):\n",
    "        x_origin = random.randrange(0, self.x_size)\n",
    "        y_origin = random.randrange(0, self.y_size)\n",
    "        radius = random.randrange(self.min_radius, self.max_radius)\n",
    "        \n",
    "        return generate_circle(self.y_size, self.x_size, y_origin, x_origin, radius)"
   ]
  },
  {
   "cell_type": "code",
   "execution_count": 10,
   "metadata": {},
   "outputs": [],
   "source": [
    "dataset = CircleGenerator(256, 256, 10, 80, 16)\n",
    "for i in range(len(dataset)):\n",
    "    circle = dataset[i]\n",
    "    # plt.imshow(circle, cmap='gray')\n",
    "    # plt.show()"
   ]
  },
  {
   "cell_type": "code",
   "execution_count": 14,
   "metadata": {},
   "outputs": [
    {
     "name": "stdout",
     "output_type": "stream",
     "text": [
      "Batch size: <built-in method size of Tensor object at 0x0000017A47FBBFB0>\n",
      "Batch type: <class 'torch.Tensor'>\n",
      "Batch size: <built-in method size of Tensor object at 0x0000017A47FBB650>\n",
      "Batch type: <class 'torch.Tensor'>\n",
      "Batch size: <built-in method size of Tensor object at 0x0000017A47FBB470>\n",
      "Batch type: <class 'torch.Tensor'>\n",
      "Batch size: <built-in method size of Tensor object at 0x0000017A47FBB530>\n",
      "Batch type: <class 'torch.Tensor'>\n",
      "Batch size: <built-in method size of Tensor object at 0x0000017A47FBB410>\n",
      "Batch type: <class 'torch.Tensor'>\n",
      "Batch size: <built-in method size of Tensor object at 0x0000017A47FBB3B0>\n",
      "Batch type: <class 'torch.Tensor'>\n",
      "Batch size: <built-in method size of Tensor object at 0x0000017A4B115FD0>\n",
      "Batch type: <class 'torch.Tensor'>\n",
      "Batch size: <built-in method size of Tensor object at 0x0000017A47FBB4D0>\n",
      "Batch type: <class 'torch.Tensor'>\n"
     ]
    }
   ],
   "source": [
    "dataloader = tc.utils.data.DataLoader(dataset, batch_size=2, num_workers=0)\n",
    "\n",
    "for batch in dataloader:\n",
    "    print(f\"Batch size: {batch.size}\")\n",
    "    print(f\"Batch type: {type(batch)}\")"
   ]
  }
 ],
 "metadata": {
  "kernelspec": {
   "display_name": "Python 3",
   "language": "python",
   "name": "python3"
  },
  "language_info": {
   "codemirror_mode": {
    "name": "ipython",
    "version": 3
   },
   "file_extension": ".py",
   "mimetype": "text/x-python",
   "name": "python",
   "nbconvert_exporter": "python",
   "pygments_lexer": "ipython3",
   "version": "3.11.4"
  }
 },
 "nbformat": 4,
 "nbformat_minor": 2
}
